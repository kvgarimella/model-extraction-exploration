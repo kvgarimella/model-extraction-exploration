{
 "cells": [
  {
   "cell_type": "markdown",
   "metadata": {
    "id": "p8GK7ZkTWOW8"
   },
   "source": [
    "# Critical Points for One-Deep Neural Networks\n",
    "\n",
    "***Note: I'm running in this in Google Colab.***\n",
    "In this notebook, we will walk through a tutorial for building a critical point search algorithm for one-deep neural networks. We assume that the attacker knows the model architecture and has query access to the victim model. In this tutorial, we also have access to the gradients of the model outputs with respect to our queries. \n",
    "This notebook is based off of the following papers: \n",
    "\n",
    "- High Accuracy and High Fidelity Extraction of Neural Networks (Matthew Jagielski, Nicholas Carlini, David Berthelot, Alex Kurakin, Nicolas Papernot @ USENIX 2020). \n",
    "    - [paper](https://arxiv.org/abs/1909.01838)\n",
    "    - [talk](https://youtu.be/PPU2a_A2ScI)\n",
    "\n",
    "\n",
    "- Cryptanalytic Extraction of Neural Network Models (Nicholas Carlini, Matthew Jagielski, Ilya Mironov @ CRYPTO 2020)\n",
    "    - [paper](https://arxiv.org/abs/2003.04884)\n",
    "    - [talk](https://youtu.be/I-KpbLQlL_o)\n",
    "\n",
    "It may be helpful to go through the previous tutorial. \n",
    "## 1. Imports\n",
    "Let's import some libraries. We will be using `jax` as our main library."
   ]
  },
  {
   "cell_type": "code",
   "execution_count": 22,
   "metadata": {
    "id": "WVJ6TevzozmI"
   },
   "outputs": [],
   "source": [
    "import jax                                                           # jax\n",
    "import jax.numpy as jnp                                              # numpy from jax\n",
    "from sklearn.datasets import make_regression                         # building a simple dataset\n",
    "from sklearn.model_selection import train_test_split                 # splitting train and test\n",
    "\n",
    "from tqdm import tqdm                                                # progress bar\n",
    "import matplotlib.pyplot as plt                                      # plotting library\n",
    "from jax.config import config; config.update(\"jax_enable_x64\", True) # enable double-precision\n",
    "import numpy as np                                                   # classic numpy"
   ]
  },
  {
   "cell_type": "markdown",
   "metadata": {
    "id": "zZoW2Y8SHaG2"
   },
   "source": [
    "## 2. Creating the dataset and model\n",
    "\n",
    "We will be creating a one-hidden layer neural network which will assume the following functional form:\n",
    "$$f(x) = A^{1} \\texttt{relu}(A^0x + B^0) + B^1. $$\n",
    "\n",
    "where $x \\in \\mathrm{R}^{1xd}, A^0 \\in \\mathrm{R}^{dxh}, B^0 \\in \\mathrm{R}^h, A^1 \\in \\mathrm{R}^{hxK},\\text{and } B^1\\in \\mathrm{R}^K.$\n",
    "\n",
    "Again, as in the previous notebook, we will build a simple regression dataset. "
   ]
  },
  {
   "cell_type": "code",
   "execution_count": 29,
   "metadata": {
    "colab": {
     "base_uri": "https://localhost:8080/"
    },
    "id": "YnTfcgTpHaG0",
    "outputId": "a439491e-7b11-4b2a-e0e4-2a07138f8d78"
   },
   "outputs": [
    {
     "name": "stdout",
     "output_type": "stream",
     "text": [
      "Dataset size: (750, 2) (250, 2) (750,) (250,)\n",
      "A0 (2, 3)\n",
      "B0 (3,)\n",
      "A1 (3, 1)\n",
      "B1 (1,)\n"
     ]
    }
   ],
   "source": [
    "d = 2       # input size\n",
    "h = 3      # hidden size\n",
    "K = 1       # output\n",
    "seed = 5   # initialization for random state in jnp.\n",
    "\n",
    "X, y = make_regression(n_samples=1000, n_features=d)            # create dataset\n",
    "x_train, x_test, y_train, y_test = train_test_split(X, y)       # split dataset\n",
    "train_mean = jnp.mean(x_train, axis=0, keepdims=True)           # train mean\n",
    "train_std  = jnp.std(x_train, axis=0, keepdims=True)            # train std\n",
    "x_train = (x_train - train_mean) / train_std                    # norm. train\n",
    "x_test  = (x_test - train_mean) / train_std                     # norm. test\n",
    "print(\"Dataset size:\", x_train.shape, x_test.shape, y_train.shape, y_test.shape)\n",
    "\n",
    "# model weights\n",
    "key = jax.random.PRNGKey(seed)\n",
    "key, subkey = jax.random.split(key)\n",
    "params = {}\n",
    "params['A0'] = jax.random.normal(key, shape=(d, h))\n",
    "params['B0'] = jnp.zeros(shape=(h,))\n",
    "key, subkey  = jax.random.split(key)\n",
    "params['A1'] = jax.random.normal(key, shape=(h,K))\n",
    "params['B1'] = jnp.zeros(shape=(K,))\n",
    "\n",
    "# printing the sizes of each distinct parameter in the model.\n",
    "for key, value in params.items():\n",
    "  print(key, value.shape)"
   ]
  },
  {
   "cell_type": "markdown",
   "metadata": {
    "id": "OjkT1hWg8Yzk"
   },
   "source": [
    "## 3. Creating the forward pass, loss function, and update rule.\n",
    "This time, the forward pass will involve two linear transformations with one non-linearity (ReLU) in between."
   ]
  },
  {
   "cell_type": "code",
   "execution_count": 30,
   "metadata": {
    "colab": {
     "base_uri": "https://localhost:8080/"
    },
    "id": "_dZGHExp7cXC",
    "outputId": "c91faea8-a8b1-4070-b83d-0fd517945cbd"
   },
   "outputs": [
    {
     "name": "stderr",
     "output_type": "stream",
     "text": [
      "100%|██████████| 100/100 [00:02<00:00, 41.11it/s]\n"
     ]
    }
   ],
   "source": [
    "from jax._src.tree_util import tree_structure\n",
    "def forward(params, X):\n",
    "  fst_layer  = jnp.dot(X, params['A0']) + params['B0']\n",
    "  rlu_layer = jnp.maximum(fst_layer, 0)\n",
    "  snd_layer  = jnp.dot(rlu_layer, params['A1']) + params['B1']\n",
    "  return snd_layer\n",
    "\n",
    "def loss_fn(params, X, y):\n",
    "  err = forward(params, X) - y\n",
    "  return jnp.mean(jnp.square(err))  \n",
    "\n",
    "# autodiff allows us to differeniate a function w.r.t its inputs (by default, the first argument)\n",
    "value_grad_fn = jax.value_and_grad(loss_fn) \n",
    "\n",
    "def update(params, grads, learning_rate):\n",
    "    return jax.tree_multimap(lambda p, g: p - learning_rate * g, params, grads)\n",
    "\n",
    "NUM_EPOCHS=100\n",
    "learning_rate = 3e-2\n",
    "train_losses = []\n",
    "test_losses  = []\n",
    "for epoch in tqdm(range(NUM_EPOCHS)):\n",
    "    loss = loss_fn(params, x_test, y_test)\n",
    "    test_losses.append(loss)\n",
    "\n",
    "    loss, grads = value_grad_fn(params, x_train, y_train) \n",
    "    train_losses.append(loss)\n",
    "    params = update(params, grads, learning_rate)"
   ]
  },
  {
   "cell_type": "code",
   "execution_count": 31,
   "metadata": {
    "colab": {
     "base_uri": "https://localhost:8080/"
    },
    "id": "vxTFLvRIVWSa",
    "outputId": "da1f161d-bb0c-4b3f-8cd1-58567bf19b88"
   },
   "outputs": [
    {
     "name": "stdout",
     "output_type": "stream",
     "text": [
      "A0 [[-0.39562756  0.84374838 -0.31216698]\n",
      " [-0.36080508  0.69329667 -0.45145564]]\n",
      "A1 [[ 1.49670122]\n",
      " [ 0.75832802]\n",
      " [-0.81076836]]\n",
      "B0 [ 1.164361    0.90859791 -0.26216067]\n",
      "B1 [0.82986245]\n"
     ]
    }
   ],
   "source": [
    "for key, value in params.items():\n",
    "  print(key, value)"
   ]
  },
  {
   "cell_type": "markdown",
   "metadata": {
    "id": "Af6Z7pGYHaG7"
   },
   "source": [
    "## 4. Simple Critical Point Search\n",
    "Here's a rather clunky implementation of critical point search. The idea here is to get a flavor of how to model this process of searching along the input space for points in which a particular ReLU has an input of exactly zero.\n"
   ]
  },
  {
   "cell_type": "code",
   "execution_count": 32,
   "metadata": {
    "colab": {
     "base_uri": "https://localhost:8080/",
     "height": 350
    },
    "id": "QIGuwADlpe2S",
    "outputId": "6eb3cb44-c91f-4fc4-e079-8be981146a60"
   },
   "outputs": [
    {
     "data": {
      "image/png": "[encoded data removed]",
      "text/plain": [
       "<Figure size 1440x360 with 2 Axes>"
      ]
     },
     "metadata": {
      "needs_background": "light"
     },
     "output_type": "display_data"
    }
   ],
   "source": [
    "def critical_point_search(params, d, h, seed):\n",
    "  key = jax.random.PRNGKey(seed)\n",
    "  key, subkey = jax.random.split(key)\n",
    "  u = jax.random.normal(key, shape=(1,d))\n",
    "  v = jax.random.normal(subkey, shape=(1,d))\n",
    "\n",
    "  ts = jnp.linspace(-30, 30, 10000)\n",
    "  def L(ts, u, v):\n",
    "    input_values = u + ts[...,None]*v\n",
    "    return forward(params, input_values).squeeze((0,1))\n",
    "  \n",
    "  value_grad = jax.value_and_grad(L)\n",
    "  # cool use of vmap. But there's an easier way.\n",
    "  values, grads = jax.vmap(value_grad, in_axes=(0, None, None))(ts, u, v) # helpful link: https://jax.readthedocs.io/en/latest/jax.html#jax.vmap\n",
    "  return values, grads, ts, u, v\n",
    "\n",
    "values, grads, ts, u, v = critical_point_search(params, d, h, 2)\n",
    "\n",
    "fig, ax = plt.subplots(nrows=1, ncols=2, figsize=(20,5))\n",
    "ax[0].plot(ts, values)\n",
    "ax[0].set_xlabel(\"t\")\n",
    "ax[0].set_title(\"Neural Network Value\")\n",
    "ax[1].plot(ts, grads)\n",
    "ax[1].set_xlabel(\"t\")\n",
    "ax[1].set_title(\"Neural Network Gradient w.r.t. t\");"
   ]
  },
  {
   "cell_type": "markdown",
   "metadata": {
    "id": "KeEtGyaDXfUx"
   },
   "source": [
    "As we can see from the output, we have three sharp changes along the $u + tv$ direction meaning that we've found three critical points (one for each hidden ReLU)."
   ]
  },
  {
   "cell_type": "markdown",
   "metadata": {
    "id": "nsEBn2Hm-AZ9"
   },
   "source": [
    "## 5. Recursive Implementation of Finding All Critical Points\n",
    " The following is a recursive approach to Algorithm 1 from the [first paper](https://arxiv.org/abs/1909.01838) mentioned above. "
   ]
  },
  {
   "cell_type": "code",
   "execution_count": 33,
   "metadata": {
    "id": "qqz6CE1ibDmg"
   },
   "outputs": [],
   "source": [
    "def recursive_find_critical_points(params, u, v, t1, t2):\n",
    "  \"\"\"\n",
    "  Recursively finds all critical points within the region t1 and t2.\n",
    "  \"\"\"\n",
    "\n",
    "  # first Eq. in Section 6.3 of https://arxiv.org/abs/1909.01838.\n",
    "  def L(t, u, v):\n",
    "    input_values = u + t*v\n",
    "    return forward(params, input_values).squeeze((0,1))\n",
    "  gradL = jax.grad(L)\n",
    "\n",
    "  # obtain gradient of L at points t1 and t2\n",
    "  # normally we wouldn't be able to do this\n",
    "  # we'd use a finite difference approach\n",
    "  g1 = gradL(t1, u, v) \n",
    "  g2 = gradL(t2, u, v)\n",
    "\n",
    "  # if the gradients are equal, then we have no critical points in this region.\n",
    "  if jnp.isclose(g1,g2):\n",
    "    return jnp.zeros_like(u)\n",
    "  # split input space in half\n",
    "  midpoint = t1/2. + t2/2.\n",
    "  # if the midpoint and (t1 OR t2) are essentially the same, we've found a critical point.\n",
    "  if jnp.isclose(midpoint, t1, rtol=1e-8):\n",
    "    return u + t1*v\n",
    "  # recurse on each half of the input space.\n",
    "  else:\n",
    "    return jnp.vstack([recursive_find_critical_points(params, u, v, t1, midpoint), recursive_find_critical_points(params, u, v, midpoint, t2)])\n",
    "\n",
    "# kick off the recursive process\n",
    "def start_critical_point_search(params, d, h, seed):\n",
    "  key = jax.random.PRNGKey(seed)\n",
    "  key, subkey = jax.random.split(key)\n",
    "\n",
    "  u = jax.random.normal(key=key, shape=(1,d), dtype=jnp.float64)*5\n",
    "  v = jax.random.normal(key=subkey, shape=(1,d), dtype=jnp.float64)*5\n",
    "\n",
    "  # heuristics for sweeping a large portion of the input space.\n",
    "  t1 = jnp.array([-h**2*2], dtype=jnp.float64)\n",
    "  t2 = jnp.array([+h**2*2], dtype=jnp.float64)\n",
    "  all_points = recursive_find_critical_points(params, u, v, t1, t2)\n",
    "  only_critical_points = all_points[~jnp.all(all_points == 0, axis=1)]\n",
    "  assert len(only_critical_points) == h\n",
    "  return only_critical_points, len(all_points)\n",
    "\n",
    "critical_points, num_queries = start_critical_point_search(params, d, h, seed=0)"
   ]
  },
  {
   "cell_type": "code",
   "execution_count": 35,
   "metadata": {
    "colab": {
     "base_uri": "https://localhost:8080/"
    },
    "id": "uN9y-VZ4uq4v",
    "outputId": "85c8ff43-d70b-49ca-dd72-b6da504d8118"
   },
   "outputs": [
    {
     "data": {
      "text/plain": [
       "(DeviceArray([[-13.30023153,   8.61597922],\n",
       "              [ -7.5627155 ,   7.8933468 ],\n",
       "              [ -3.82634371,   7.4227558 ]], dtype=float64), 3)"
      ]
     },
     "execution_count": 35,
     "metadata": {},
     "output_type": "execute_result"
    }
   ],
   "source": [
    "critical_points, len(critical_points)"
   ]
  },
  {
   "cell_type": "markdown",
   "metadata": {
    "id": "B5HmpmKRYFs2"
   },
   "source": [
    "It looks like we successfully found three critical points! Let's see how many queries that took."
   ]
  },
  {
   "cell_type": "code",
   "execution_count": 36,
   "metadata": {
    "colab": {
     "base_uri": "https://localhost:8080/"
    },
    "id": "mcMEyZ68-SpM",
    "outputId": "969cb72a-11bb-44cf-9109-6ec933173c03"
   },
   "outputs": [
    {
     "name": "stdout",
     "output_type": "stream",
     "text": [
      "Number of Queries: 81\n"
     ]
    }
   ],
   "source": [
    "print(\"Number of Queries:\", num_queries)"
   ]
  },
  {
   "cell_type": "markdown",
   "metadata": {
    "id": "lQGWfe6d-XcL"
   },
   "source": [
    "## 6. Observing the Intermediate Activations\n",
    "Now, let's act as a third party who *does* have access to the victim model. Let's forward propagate only through to the first layer in the network and observe what our inputs to the ReLU look like."
   ]
  },
  {
   "cell_type": "code",
   "execution_count": 37,
   "metadata": {
    "colab": {
     "base_uri": "https://localhost:8080/"
    },
    "id": "0YSF4SsKJLTS",
    "outputId": "1643ce3d-eab6-4302-ade9-86face9ef7e9"
   },
   "outputs": [
    {
     "name": "stdout",
     "output_type": "stream",
     "text": [
      "[[ 3.31761012e+00 -4.34002120e+00  2.55970296e-08]]\n",
      "[[5.79533353]]\n",
      "[[ 1.30842008e+00 -5.98659999e-09 -1.46482654e+00]]\n",
      "[[2.78817637]]\n",
      "[[ 2.87880704e-08  2.82629846e+00 -2.41874748e+00]]\n",
      "[[2.97312381]]\n",
      "-----------------------\n",
      "Index of ReLU which is at zero.\n",
      "[[2]]\n",
      "[[1]]\n",
      "[[0]]\n"
     ]
    }
   ],
   "source": [
    "def fst_layer_forward(params, X):\n",
    "  fst_layer  = jnp.dot(X, params['A0']) + params['B0']\n",
    "  return fst_layer\n",
    "\n",
    "for i in range(len(critical_points)):\n",
    "  print(fst_layer_forward(params, critical_points[i:i+1]))\n",
    "  print(forward(params, critical_points[i:i+1]))\n",
    "\n",
    "print(\"-----------------------\")\n",
    "\n",
    "print(\"Index of ReLU which is at zero.\")\n",
    "for eval in fst_layer_forward(params, critical_points):\n",
    "  print(jnp.argwhere(jnp.isclose(0, eval, atol=1e-05)==True))"
   ]
  },
  {
   "cell_type": "markdown",
   "metadata": {
    "id": "g-w_igsYYXMI"
   },
   "source": [
    "We can see that for each critical point, one of the ReLUs is sitting at zero! The next step in this process would be to use this critical points to extract the magnitude of the weights for the first layer's linear transformation."
   ]
  }
 ],
 "metadata": {
  "accelerator": "TPU",
  "colab": {
   "name": "02_one_deep_critical_point_search.ipynb",
   "provenance": []
  },
  "kernelspec": {
   "display_name": "Python 3",
   "language": "python",
   "name": "python3"
  },
  "language_info": {
   "codemirror_mode": {
    "name": "ipython",
    "version": 3
   },
   "file_extension": ".py",
   "mimetype": "text/x-python",
   "name": "python",
   "nbconvert_exporter": "python",
   "pygments_lexer": "ipython3",
   "version": "3.7.6"
  }
 },
 "nbformat": 4,
 "nbformat_minor": 1
}
