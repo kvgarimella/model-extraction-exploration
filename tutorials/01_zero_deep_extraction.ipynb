{
 "cells": [
  {
   "cell_type": "markdown",
   "metadata": {
    "id": "5PU0YndxHaGq"
   },
   "source": [
    "# High(-est) Fidelity Extraction of a Linear Model\n",
    "\n",
    "***Note: I'm running in this in Google Colab.***\n",
    "In this notebook, we will walk through a simple tutorial for stealing a linear model assuming that the attacker knows the model architecture and has query access to the victim model. This isn't really practical because most sensitive and deployed ML models are non-linear and deep,  but it's a good starting point to gain some intuition on how to cleverly extract the parameters of a model. This notebook is based off of the following paper: High Accuracy and High Fidelity Extraction of Neural Networks (Matthew Jagielski, Nicholas Carlini, David Berthelot, Alex Kurakin, Nicolas Papernot @ USENIX 2020). \n",
    "\n",
    "- [paper](https://arxiv.org/abs/1909.01838)\n",
    "- [talk](https://youtu.be/PPU2a_A2ScI)\n",
    "\n",
    "In particular, we will extract a **functionally equivalent linear model**. Recall that a functionally equivalent extracted model behaves *precisely* as the victim model behaves across the entire input space. \n",
    "## 1. Imports\n",
    "Let's import some libraries. We will be using `jax` as our main library. You may find the following tutorials helpful. Much of the jax code in this tutorial came from the first reference below:\n",
    "\n",
    "- [Jax - Linear Regression](https://coax.readthedocs.io/en/latest/examples/linear_regression/jax.html)\n",
    "- [Jax - The Autodiff Cookbook](https://jax.readthedocs.io/en/latest/notebooks/autodiff_cookbook.html)"
   ]
  },
  {
   "cell_type": "code",
   "execution_count": null,
   "metadata": {
    "id": "WVJ6TevzozmI"
   },
   "outputs": [],
   "source": [
    "import jax                                            # jax\n",
    "import jax.numpy as jnp                               # numpy from jax\n",
    "from sklearn.datasets import make_regression          # building a simple dataset\n",
    "from sklearn.model_selection import train_test_split  # splitting train and test\n",
    "\n",
    "from tqdm import tqdm                                 # progress bar\n",
    "import matplotlib.pyplot as plt                       # plotting library"
   ]
  },
  {
   "cell_type": "markdown",
   "metadata": {
    "id": "zZoW2Y8SHaG2"
   },
   "source": [
    "## 2. Creating the dataset\n",
    "Let's create a regression dataset of 10,000 samples. Let's also control the feature size. "
   ]
  },
  {
   "cell_type": "code",
   "execution_count": null,
   "metadata": {
    "id": "YnTfcgTpHaG0"
   },
   "outputs": [],
   "source": [
    "INPUT_DIM = 10"
   ]
  },
  {
   "cell_type": "code",
   "execution_count": null,
   "metadata": {
    "colab": {
     "base_uri": "https://localhost:8080/"
    },
    "id": "qY_cqW6wHaGz",
    "outputId": "824f46a2-f844-4573-b555-7f4f745516d3"
   },
   "outputs": [
    {
     "name": "stderr",
     "output_type": "stream",
     "text": [
      "WARNING:absl:No GPU/TPU found, falling back to CPU. (Set TF_CPP_MIN_LOG_LEVEL=0 and rerun for more info.)\n"
     ]
    },
    {
     "name": "stdout",
     "output_type": "stream",
     "text": [
      "(750, 10) (250, 10) (750,) (250,)\n"
     ]
    }
   ],
   "source": [
    "X, y = make_regression(n_samples=1000, n_features=INPUT_DIM)    # create dataset\n",
    "x_train, x_test, y_train, y_test = train_test_split(X, y)       # split dataset\n",
    "train_mean = jnp.mean(x_train, axis=0, keepdims=True)           # train mean\n",
    "train_std  = jnp.std(x_train, axis=0, keepdims=True)            # train std\n",
    "x_train = (x_train - train_mean) / train_std                    # norm. train\n",
    "x_test  = (x_test - train_mean) / train_std                     # norm. test\n",
    "print(x_train.shape, x_test.shape, y_train.shape, y_test.shape)"
   ]
  },
  {
   "cell_type": "markdown",
   "metadata": {
    "id": "HAdJlcfGlBQC"
   },
   "source": [
    "So, we have now have a train and test dataset. The first axis corresponds to the batch while the second axis are the actual features. We've also normalized the dataset using standard practices."
   ]
  },
  {
   "cell_type": "markdown",
   "metadata": {
    "id": "lQzrIy_THaGy"
   },
   "source": [
    "## 3. Creating a simple linear model\n",
    "\n",
    "We will create a $d$-dimensional linear model. That means our function maps $d$-dimensional vectors to a real value ($\\mathrm{R}^d \\rightarrow \\mathrm{R}$). `jax` **explicitly** handles randomness so let's generate a key and sample some weights for our linear model. "
   ]
  },
  {
   "cell_type": "code",
   "execution_count": null,
   "metadata": {
    "colab": {
     "base_uri": "https://localhost:8080/"
    },
    "id": "6GO86W7uo3Sk",
    "outputId": "ed744be0-d633-45a4-c290-aeb72d20f978"
   },
   "outputs": [
    {
     "name": "stdout",
     "output_type": "stream",
     "text": [
      "{'w': DeviceArray([-0.372111  ,  0.26423106, -0.18252774, -0.7368198 ,\n",
      "             -0.44030386, -0.15214427, -0.6713536 , -0.5908642 ,\n",
      "              0.73168874,  0.5673025 ], dtype=float32), 'b': DeviceArray([0.], dtype=float32)}\n"
     ]
    }
   ],
   "source": [
    "# model weights\n",
    "key = jax.random.PRNGKey(0)\n",
    "params = {\n",
    "    'w': jax.random.normal(key, shape=(x_train.shape[1],)),  # weights\n",
    "    'b': jnp.array([0.])                                     # bias\n",
    "}\n",
    "print(params)"
   ]
  },
  {
   "cell_type": "markdown",
   "metadata": {
    "id": "Af6Z7pGYHaG7"
   },
   "source": [
    "## 4. Creating the forward pass, loss function, and update rule."
   ]
  },
  {
   "cell_type": "code",
   "execution_count": null,
   "metadata": {
    "id": "QIGuwADlpe2S"
   },
   "outputs": [],
   "source": [
    "def forward(params, X):\n",
    "  return jnp.dot(X, params['w']) + params['b']\n",
    "\n",
    "def loss_fn(params, X, y):\n",
    "  err = forward(params, X) - y\n",
    "  return jnp.mean(jnp.square(err))  \n",
    "\n",
    "# autodiff allows us to differeniate a function w.r.t its inputs (by default, the first argument)\n",
    "value_grad_fn = jax.value_and_grad(loss_fn) \n",
    "\n",
    "def update(params, grads, learning_rate):\n",
    "    return jax.tree_multimap(lambda p, g: p - learning_rate * g, params, grads)"
   ]
  },
  {
   "cell_type": "markdown",
   "metadata": {
    "id": "pKE6MZSjHaG7"
   },
   "source": [
    "## 5. Training this model\n",
    "Now, we take the position of the victim. We have our collected dataset and a model which we'd like to train. Again, we aren't looking for a fancy model or high accuracy here; we are just simulating the process of some organization creating a (linear) model. It won't take long at all to train this simple linear model."
   ]
  },
  {
   "cell_type": "code",
   "execution_count": null,
   "metadata": {
    "colab": {
     "base_uri": "https://localhost:8080/"
    },
    "id": "Jf9PPlUo0VFU",
    "outputId": "e804c5d0-8bc7-4b16-c345-f477f1bf7ec6"
   },
   "outputs": [
    {
     "name": "stderr",
     "output_type": "stream",
     "text": [
      "100%|██████████| 100/100 [00:02<00:00, 42.91it/s]\n"
     ]
    }
   ],
   "source": [
    "NUM_EPOCHS=100\n",
    "learning_rate = 3e-1\n",
    "train_losses = []\n",
    "test_losses  = []\n",
    "for epoch in tqdm(range(NUM_EPOCHS)):\n",
    "    loss = loss_fn(params, x_test, y_test)\n",
    "    test_losses.append(loss)\n",
    "\n",
    "    loss, grads = value_grad_fn(params, x_train, y_train) \n",
    "    train_losses.append(loss)\n",
    "    params = update(params, grads, learning_rate)"
   ]
  },
  {
   "cell_type": "markdown",
   "metadata": {
    "id": "AL0aiDeKHaG-"
   },
   "source": [
    "## 6. Plotting metrics\n",
    "Let's go ahead and plot our train and val loss curves. Again, these aren't that important for our task, but it's good to check that training proceded correctly."
   ]
  },
  {
   "cell_type": "code",
   "execution_count": null,
   "metadata": {
    "colab": {
     "base_uri": "https://localhost:8080/",
     "height": 350
    },
    "id": "dkM6pJJq0VHz",
    "outputId": "62f055b6-74a1-40be-e308-bbc251da0273"
   },
   "outputs": [
    {
     "data": {
      "image/png": "[encoded data removed]",
      "text/plain": [
       "<Figure size 360x360 with 2 Axes>"
      ]
     },
     "metadata": {
      "needs_background": "light"
     },
     "output_type": "display_data"
    }
   ],
   "source": [
    "fig, ax = plt.subplots(nrows=2, ncols=1, figsize=(5,5), sharex=True)\n",
    "ax[0].plot(train_losses)\n",
    "ax[0].set_title(\"Train Loss\")\n",
    "ax[0].grid()\n",
    "ax[1].plot(test_losses)\n",
    "ax[1].set_title(\"Val Loss\")\n",
    "ax[1].set_xlabel(\"Epoch\");\n",
    "ax[1].grid();"
   ]
  },
  {
   "cell_type": "code",
   "execution_count": null,
   "metadata": {
    "colab": {
     "base_uri": "https://localhost:8080/"
    },
    "id": "m5pKbg2-iXTG",
    "outputId": "ce627b38-6447-4e15-e7a0-72f89ad9ea4a"
   },
   "outputs": [
    {
     "data": {
      "text/plain": [
       "{'b': DeviceArray([-0.12844068], dtype=float32),\n",
       " 'w': DeviceArray([59.207184 , 21.589506 , 44.023746 , 71.02374  , 29.497866 ,\n",
       "              39.228783 , 26.272846 , 24.236612 , 60.160286 ,  4.2438154],            dtype=float32)}"
      ]
     },
     "execution_count": 8,
     "metadata": {},
     "output_type": "execute_result"
    }
   ],
   "source": [
    "params"
   ]
  },
  {
   "cell_type": "markdown",
   "metadata": {
    "id": "VpyeA5vYHaG_"
   },
   "source": [
    "## 7. Functionally-Equivalent Model Extraction\n",
    "Now, let's assume that we are some malicious party that wants to steal the trained linear model. We have the following:\n",
    "\n",
    "- Access to the model architecture (but crucially, not the parameters!)\n",
    "- Query access (we can provide an input to the victim's model and observe the real-valued output)\n",
    "\n",
    "One obvious method would be to generate many input and output pairs and train a proxy model. **However, in this notebook, we will look at a more *surgical* approach to stealing a functionally-equivalent model.**"
   ]
  },
  {
   "cell_type": "markdown",
   "metadata": {
    "id": "pLA2JcK4KFvc"
   },
   "source": [
    "In particular, we know that our model assumes the following form:\n",
    "$$ f(x) = w^Tx + b$$\n",
    "where $w, x \\in \\mathrm{R}^d$ and $b \\in \\mathrm{R}^1$. First, we can immediately see that querying the model at $\\vec{x}=0$ will provide us with the bias (you can confirm this by looking at the `forward` function). Second, by passing in the [canonical basis vectors](https://en.wikipedia.org/wiki/Standard_basis), we will in return receive $w_i + b \\text{ } \\forall i \\in \\{1..d\\}$. Let's build these queries and steal the model."
   ]
  },
  {
   "cell_type": "code",
   "execution_count": null,
   "metadata": {
    "id": "NnmiGYuTqunI"
   },
   "outputs": [],
   "source": [
    "QUERY_WEIGHT = jnp.eye(INPUT_DIM)       #  canonical basis vectors as a single batch\n",
    "QUERY_BIAS   = jnp.zeros((1,INPUT_DIM)) #  zero vector to retreive the bias()"
   ]
  },
  {
   "cell_type": "markdown",
   "metadata": {
    "id": "l6HFmmQzLaZ5"
   },
   "source": [
    "Let's go ahead and print these:"
   ]
  },
  {
   "cell_type": "code",
   "execution_count": null,
   "metadata": {
    "colab": {
     "base_uri": "https://localhost:8080/"
    },
    "id": "KpnWTA81LZi-",
    "outputId": "9a3f5be4-5fd6-466b-ed84-cdd0c939d604"
   },
   "outputs": [
    {
     "name": "stdout",
     "output_type": "stream",
     "text": [
      "[[1. 0. 0. 0. 0. 0. 0. 0. 0. 0.]\n",
      " [0. 1. 0. 0. 0. 0. 0. 0. 0. 0.]\n",
      " [0. 0. 1. 0. 0. 0. 0. 0. 0. 0.]\n",
      " [0. 0. 0. 1. 0. 0. 0. 0. 0. 0.]\n",
      " [0. 0. 0. 0. 1. 0. 0. 0. 0. 0.]\n",
      " [0. 0. 0. 0. 0. 1. 0. 0. 0. 0.]\n",
      " [0. 0. 0. 0. 0. 0. 1. 0. 0. 0.]\n",
      " [0. 0. 0. 0. 0. 0. 0. 1. 0. 0.]\n",
      " [0. 0. 0. 0. 0. 0. 0. 0. 1. 0.]\n",
      " [0. 0. 0. 0. 0. 0. 0. 0. 0. 1.]]\n",
      "\n",
      "[[0. 0. 0. 0. 0. 0. 0. 0. 0. 0.]]\n"
     ]
    }
   ],
   "source": [
    "print(QUERY_WEIGHT); print(); print(QUERY_BIAS)"
   ]
  },
  {
   "cell_type": "code",
   "execution_count": null,
   "metadata": {
    "colab": {
     "base_uri": "https://localhost:8080/"
    },
    "id": "iZqxRAESHaHA",
    "outputId": "1e6fa39d-0f1e-42ec-a470-2b810f4ad99b"
   },
   "outputs": [
    {
     "name": "stdout",
     "output_type": "stream",
     "text": [
      "(10, 10) (1, 10)\n"
     ]
    }
   ],
   "source": [
    "print(QUERY_WEIGHT.shape, QUERY_BIAS.shape)"
   ]
  },
  {
   "cell_type": "markdown",
   "metadata": {
    "id": "0beM3j_wLmzn"
   },
   "source": [
    "## 8. Querying the victim model\n",
    "Now that we have prepared our queries, let's query the victim model and see if we can extract a functionally-equivalent model. "
   ]
  },
  {
   "cell_type": "code",
   "execution_count": null,
   "metadata": {
    "id": "wiE2N9WR7Ew5"
   },
   "outputs": [],
   "source": [
    "out_w = forward(params, QUERY_WEIGHT)\n",
    "out_b = forward(params, QUERY_BIAS)"
   ]
  },
  {
   "cell_type": "code",
   "execution_count": null,
   "metadata": {
    "colab": {
     "base_uri": "https://localhost:8080/"
    },
    "id": "GsKoy8llHaHB",
    "outputId": "83a3d307-82a0-4d98-fb3d-86387486e4bf"
   },
   "outputs": [
    {
     "name": "stdout",
     "output_type": "stream",
     "text": [
      "(10,) (1,) (10,) (1,)\n"
     ]
    }
   ],
   "source": [
    "print(out_w.shape, out_b.shape, params['w'].shape, params['b'].shape)"
   ]
  },
  {
   "cell_type": "markdown",
   "metadata": {
    "id": "MRpF_r_MMF9q"
   },
   "source": [
    "## 9. Extracting the weights and bias of the linear model. \n",
    "\n",
    "Recall that our first query extracted $w_i + b$. Thus, to extract the exact weights, we just need to subtract the bias from each query that used the basis vectors. "
   ]
  },
  {
   "cell_type": "code",
   "execution_count": null,
   "metadata": {
    "colab": {
     "base_uri": "https://localhost:8080/"
    },
    "id": "Yr-AB7Nj7Noo",
    "outputId": "ebb0b075-7f83-4c01-8fca-2ff231896e95"
   },
   "outputs": [
    {
     "data": {
      "text/plain": [
       "DeviceArray(True, dtype=bool)"
      ]
     },
     "execution_count": 14,
     "metadata": {},
     "output_type": "execute_result"
    }
   ],
   "source": [
    "jnp.all(jnp.isclose(params['w'], (out_w - out_b)))"
   ]
  },
  {
   "cell_type": "markdown",
   "metadata": {
    "id": "gO8lPqpTMdkw"
   },
   "source": [
    "Great, so now we have the weights of the linear model. The bias is trivial since we passed in the zero vector and received the bias directly from the victim model. Let's just confirm:"
   ]
  },
  {
   "cell_type": "code",
   "execution_count": null,
   "metadata": {
    "colab": {
     "base_uri": "https://localhost:8080/"
    },
    "id": "omyvJzdkHaHC",
    "outputId": "2bc46227-6ba5-4985-b8e1-fbe0a5c301b8"
   },
   "outputs": [
    {
     "data": {
      "text/plain": [
       "DeviceArray(True, dtype=bool)"
      ]
     },
     "execution_count": 15,
     "metadata": {},
     "output_type": "execute_result"
    }
   ],
   "source": [
    "jnp.all(jnp.isclose(params['b'], out_b))"
   ]
  },
  {
   "cell_type": "markdown",
   "metadata": {
    "id": "S8I2lFfFMpmA"
   },
   "source": [
    "Now, we have effectively stolen the linear model that the victim trained! As a malicious actor, we can now build our own functionally equivalent model. Let's ensure the models have the exact same output for some random datapoint."
   ]
  },
  {
   "cell_type": "code",
   "execution_count": null,
   "metadata": {
    "colab": {
     "base_uri": "https://localhost:8080/"
    },
    "id": "TrAYLS9RHaHD",
    "outputId": "57e080ce-9bf2-42e2-fc77-b64f95027519"
   },
   "outputs": [
    {
     "name": "stdout",
     "output_type": "stream",
     "text": [
      "[56.26381]\n",
      "[56.26381]\n"
     ]
    }
   ],
   "source": [
    "functionally_equivalent_params = {\n",
    "    'w': out_w - out_b,  # stolen weights\n",
    "    'b': out_b           # stolen bias\n",
    "}\n",
    "\n",
    "key = jax.random.PRNGKey(10) # notice that without updating the random state, jax.random returns the same values for arrays of the same shape\n",
    "print(forward(params, jax.random.normal(key, shape=(INPUT_DIM,))))\n",
    "print(forward(functionally_equivalent_params, jax.random.normal(key, shape=(INPUT_DIM,))))"
   ]
  },
  {
   "cell_type": "markdown",
   "metadata": {
    "id": "7Z4r2cMhMyV6"
   },
   "source": [
    "So how many queries did it take us to steal the victim model? We batched up our canonical vectors and had one additional query to obtain the bias. "
   ]
  },
  {
   "cell_type": "code",
   "execution_count": null,
   "metadata": {
    "colab": {
     "base_uri": "https://localhost:8080/"
    },
    "id": "cFcx7FHwjgGZ",
    "outputId": "2e27b08e-a880-4276-b19b-285e707355c2"
   },
   "outputs": [
    {
     "name": "stdout",
     "output_type": "stream",
     "text": [
      "Functionally Equivalent Linear Model generated with 11 queries.\n"
     ]
    }
   ],
   "source": [
    "print(\"Functionally Equivalent Linear Model generated with {} queries.\".format(QUERY_WEIGHT.shape[0] + QUERY_BIAS.shape[0]))"
   ]
  },
  {
   "cell_type": "markdown",
   "metadata": {
    "id": "wMIbkKB8M8EG"
   },
   "source": [
    "Thus, we simply needed $d+1$ queries to the model in order to produce a functionally equivalent stolen model. While this is a rather simple example, it illustrates that having some information about the model architecture allows one to produce precise queries that can outmatch any standard method (e.g. machine-learning based) when trying to steal a victim model."
   ]
  }
 ],
 "metadata": {
  "accelerator": "TPU",
  "colab": {
   "name": "01_zero_deep_extraction.ipynb",
   "provenance": []
  },
  "kernelspec": {
   "display_name": "Python 3",
   "language": "python",
   "name": "python3"
  },
  "language_info": {
   "codemirror_mode": {
    "name": "ipython",
    "version": 3
   },
   "file_extension": ".py",
   "mimetype": "text/x-python",
   "name": "python",
   "nbconvert_exporter": "python",
   "pygments_lexer": "ipython3",
   "version": "3.7.6"
  }
 },
 "nbformat": 4,
 "nbformat_minor": 1
}
